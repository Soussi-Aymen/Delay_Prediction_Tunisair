{
 "cells": [
  {
   "cell_type": "code",
   "execution_count": 1,
   "metadata": {
    "colab": {},
    "colab_type": "code",
    "id": "ZYW3UXY4Tfni"
   },
   "outputs": [],
   "source": [
    "import pandas as pd\n",
    "import numpy as np\n"
   ]
  },
  {
   "cell_type": "code",
   "execution_count": 2,
   "metadata": {
    "colab": {},
    "colab_type": "code",
    "id": "oZKHslU6UDNO"
   },
   "outputs": [],
   "source": [
    "train = pd.read_csv('./data/Train.csv')\n",
    "test = pd.read_csv('./data/Test.csv')\n"
   ]
  },
  {
   "cell_type": "code",
   "execution_count": 3,
   "metadata": {
    "colab": {
     "base_uri": "https://localhost:8080/",
     "height": 204
    },
    "colab_type": "code",
    "id": "KqkE6RjEVnfb",
    "outputId": "2df75921-7f88-48a5-83d3-c7bb5127a043"
   },
   "outputs": [
    {
     "data": {
      "text/html": [
       "<div>\n",
       "<style scoped>\n",
       "    .dataframe tbody tr th:only-of-type {\n",
       "        vertical-align: middle;\n",
       "    }\n",
       "\n",
       "    .dataframe tbody tr th {\n",
       "        vertical-align: top;\n",
       "    }\n",
       "\n",
       "    .dataframe thead th {\n",
       "        text-align: right;\n",
       "    }\n",
       "</style>\n",
       "<table border=\"1\" class=\"dataframe\">\n",
       "  <thead>\n",
       "    <tr style=\"text-align: right;\">\n",
       "      <th></th>\n",
       "      <th>ID</th>\n",
       "      <th>DATOP</th>\n",
       "      <th>FLTID</th>\n",
       "      <th>DEPSTN</th>\n",
       "      <th>ARRSTN</th>\n",
       "      <th>STD</th>\n",
       "      <th>STA</th>\n",
       "      <th>STATUS</th>\n",
       "      <th>AC</th>\n",
       "      <th>target</th>\n",
       "    </tr>\n",
       "  </thead>\n",
       "  <tbody>\n",
       "    <tr>\n",
       "      <th>0</th>\n",
       "      <td>train_id_0</td>\n",
       "      <td>2016-01-03</td>\n",
       "      <td>TU 0712</td>\n",
       "      <td>CMN</td>\n",
       "      <td>TUN</td>\n",
       "      <td>2016-01-03 10:30:00</td>\n",
       "      <td>2016-01-03 12.55.00</td>\n",
       "      <td>ATA</td>\n",
       "      <td>TU 32AIMN</td>\n",
       "      <td>260.0</td>\n",
       "    </tr>\n",
       "    <tr>\n",
       "      <th>1</th>\n",
       "      <td>train_id_1</td>\n",
       "      <td>2016-01-13</td>\n",
       "      <td>TU 0757</td>\n",
       "      <td>MXP</td>\n",
       "      <td>TUN</td>\n",
       "      <td>2016-01-13 15:05:00</td>\n",
       "      <td>2016-01-13 16.55.00</td>\n",
       "      <td>ATA</td>\n",
       "      <td>TU 31BIMO</td>\n",
       "      <td>20.0</td>\n",
       "    </tr>\n",
       "    <tr>\n",
       "      <th>2</th>\n",
       "      <td>train_id_2</td>\n",
       "      <td>2016-01-16</td>\n",
       "      <td>TU 0214</td>\n",
       "      <td>TUN</td>\n",
       "      <td>IST</td>\n",
       "      <td>2016-01-16 04:10:00</td>\n",
       "      <td>2016-01-16 06.45.00</td>\n",
       "      <td>ATA</td>\n",
       "      <td>TU 32AIMN</td>\n",
       "      <td>0.0</td>\n",
       "    </tr>\n",
       "    <tr>\n",
       "      <th>3</th>\n",
       "      <td>train_id_3</td>\n",
       "      <td>2016-01-17</td>\n",
       "      <td>TU 0480</td>\n",
       "      <td>DJE</td>\n",
       "      <td>NTE</td>\n",
       "      <td>2016-01-17 14:10:00</td>\n",
       "      <td>2016-01-17 17.00.00</td>\n",
       "      <td>ATA</td>\n",
       "      <td>TU 736IOK</td>\n",
       "      <td>0.0</td>\n",
       "    </tr>\n",
       "    <tr>\n",
       "      <th>4</th>\n",
       "      <td>train_id_4</td>\n",
       "      <td>2016-01-17</td>\n",
       "      <td>TU 0338</td>\n",
       "      <td>TUN</td>\n",
       "      <td>ALG</td>\n",
       "      <td>2016-01-17 14:30:00</td>\n",
       "      <td>2016-01-17 15.50.00</td>\n",
       "      <td>ATA</td>\n",
       "      <td>TU 320IMU</td>\n",
       "      <td>22.0</td>\n",
       "    </tr>\n",
       "  </tbody>\n",
       "</table>\n",
       "</div>"
      ],
      "text/plain": [
       "           ID       DATOP     FLTID DEPSTN ARRSTN                  STD  \\\n",
       "0  train_id_0  2016-01-03  TU 0712     CMN    TUN  2016-01-03 10:30:00   \n",
       "1  train_id_1  2016-01-13  TU 0757     MXP    TUN  2016-01-13 15:05:00   \n",
       "2  train_id_2  2016-01-16  TU 0214     TUN    IST  2016-01-16 04:10:00   \n",
       "3  train_id_3  2016-01-17  TU 0480     DJE    NTE  2016-01-17 14:10:00   \n",
       "4  train_id_4  2016-01-17  TU 0338     TUN    ALG  2016-01-17 14:30:00   \n",
       "\n",
       "                   STA STATUS         AC  target  \n",
       "0  2016-01-03 12.55.00    ATA  TU 32AIMN   260.0  \n",
       "1  2016-01-13 16.55.00    ATA  TU 31BIMO    20.0  \n",
       "2  2016-01-16 06.45.00    ATA  TU 32AIMN     0.0  \n",
       "3  2016-01-17 17.00.00    ATA  TU 736IOK     0.0  \n",
       "4  2016-01-17 15.50.00    ATA  TU 320IMU    22.0  "
      ]
     },
     "execution_count": 3,
     "metadata": {},
     "output_type": "execute_result"
    }
   ],
   "source": [
    "train.head()"
   ]
  },
  {
   "cell_type": "code",
   "execution_count": 4,
   "metadata": {
    "colab": {
     "base_uri": "https://localhost:8080/",
     "height": 204
    },
    "colab_type": "code",
    "id": "fr_RRu7GVqAf",
    "outputId": "8b80d80f-4a2c-46c9-aa1b-807a3438be34"
   },
   "outputs": [
    {
     "data": {
      "text/html": [
       "<div>\n",
       "<style scoped>\n",
       "    .dataframe tbody tr th:only-of-type {\n",
       "        vertical-align: middle;\n",
       "    }\n",
       "\n",
       "    .dataframe tbody tr th {\n",
       "        vertical-align: top;\n",
       "    }\n",
       "\n",
       "    .dataframe thead th {\n",
       "        text-align: right;\n",
       "    }\n",
       "</style>\n",
       "<table border=\"1\" class=\"dataframe\">\n",
       "  <thead>\n",
       "    <tr style=\"text-align: right;\">\n",
       "      <th></th>\n",
       "      <th>ID</th>\n",
       "      <th>DATOP</th>\n",
       "      <th>FLTID</th>\n",
       "      <th>DEPSTN</th>\n",
       "      <th>ARRSTN</th>\n",
       "      <th>STD</th>\n",
       "      <th>STA</th>\n",
       "      <th>STATUS</th>\n",
       "      <th>AC</th>\n",
       "    </tr>\n",
       "  </thead>\n",
       "  <tbody>\n",
       "    <tr>\n",
       "      <th>0</th>\n",
       "      <td>test_id_0</td>\n",
       "      <td>2016-05-04</td>\n",
       "      <td>TU 0700</td>\n",
       "      <td>DJE</td>\n",
       "      <td>TUN</td>\n",
       "      <td>2016-05-04 06:40:00</td>\n",
       "      <td>2016-05-04 07.30.00</td>\n",
       "      <td>ATA</td>\n",
       "      <td>TU 32AIMF</td>\n",
       "    </tr>\n",
       "    <tr>\n",
       "      <th>1</th>\n",
       "      <td>test_id_1</td>\n",
       "      <td>2016-05-05</td>\n",
       "      <td>TU 0395</td>\n",
       "      <td>TUN</td>\n",
       "      <td>BKO</td>\n",
       "      <td>2016-05-05 15:20:00</td>\n",
       "      <td>2016-05-05 20.05.00</td>\n",
       "      <td>ATA</td>\n",
       "      <td>TU 320IMW</td>\n",
       "    </tr>\n",
       "    <tr>\n",
       "      <th>2</th>\n",
       "      <td>test_id_2</td>\n",
       "      <td>2016-05-06</td>\n",
       "      <td>TU 0745</td>\n",
       "      <td>FRA</td>\n",
       "      <td>TUN</td>\n",
       "      <td>2016-05-06 10:00:00</td>\n",
       "      <td>2016-05-06 12.25.00</td>\n",
       "      <td>ATA</td>\n",
       "      <td>TU 32AIMC</td>\n",
       "    </tr>\n",
       "    <tr>\n",
       "      <th>3</th>\n",
       "      <td>test_id_3</td>\n",
       "      <td>2016-05-11</td>\n",
       "      <td>TU 0848</td>\n",
       "      <td>BEY</td>\n",
       "      <td>TUN</td>\n",
       "      <td>2016-05-11 09:40:00</td>\n",
       "      <td>2016-05-11 13.10.00</td>\n",
       "      <td>ATA</td>\n",
       "      <td>TU 31BIMO</td>\n",
       "    </tr>\n",
       "    <tr>\n",
       "      <th>4</th>\n",
       "      <td>test_id_4</td>\n",
       "      <td>2016-05-11</td>\n",
       "      <td>TU 0635</td>\n",
       "      <td>ORY</td>\n",
       "      <td>MIR</td>\n",
       "      <td>2016-05-11 09:50:00</td>\n",
       "      <td>2016-05-11 12.35.00</td>\n",
       "      <td>ATA</td>\n",
       "      <td>TU 736IOQ</td>\n",
       "    </tr>\n",
       "  </tbody>\n",
       "</table>\n",
       "</div>"
      ],
      "text/plain": [
       "          ID       DATOP     FLTID DEPSTN ARRSTN                  STD  \\\n",
       "0  test_id_0  2016-05-04  TU 0700     DJE    TUN  2016-05-04 06:40:00   \n",
       "1  test_id_1  2016-05-05  TU 0395     TUN    BKO  2016-05-05 15:20:00   \n",
       "2  test_id_2  2016-05-06  TU 0745     FRA    TUN  2016-05-06 10:00:00   \n",
       "3  test_id_3  2016-05-11  TU 0848     BEY    TUN  2016-05-11 09:40:00   \n",
       "4  test_id_4  2016-05-11  TU 0635     ORY    MIR  2016-05-11 09:50:00   \n",
       "\n",
       "                   STA STATUS         AC  \n",
       "0  2016-05-04 07.30.00    ATA  TU 32AIMF  \n",
       "1  2016-05-05 20.05.00    ATA  TU 320IMW  \n",
       "2  2016-05-06 12.25.00    ATA  TU 32AIMC  \n",
       "3  2016-05-11 13.10.00    ATA  TU 31BIMO  \n",
       "4  2016-05-11 12.35.00    ATA  TU 736IOQ  "
      ]
     },
     "execution_count": 4,
     "metadata": {},
     "output_type": "execute_result"
    }
   ],
   "source": [
    "test.head()"
   ]
  },
  {
   "cell_type": "code",
   "execution_count": 5,
   "metadata": {},
   "outputs": [
    {
     "data": {
      "text/html": [
       "<div>\n",
       "<style scoped>\n",
       "    .dataframe tbody tr th:only-of-type {\n",
       "        vertical-align: middle;\n",
       "    }\n",
       "\n",
       "    .dataframe tbody tr th {\n",
       "        vertical-align: top;\n",
       "    }\n",
       "\n",
       "    .dataframe thead th {\n",
       "        text-align: right;\n",
       "    }\n",
       "</style>\n",
       "<table border=\"1\" class=\"dataframe\">\n",
       "  <thead>\n",
       "    <tr style=\"text-align: right;\">\n",
       "      <th></th>\n",
       "      <th>ID</th>\n",
       "      <th>DATOP</th>\n",
       "      <th>FLTID</th>\n",
       "      <th>DEPSTN</th>\n",
       "      <th>ARRSTN</th>\n",
       "      <th>STD</th>\n",
       "      <th>STA</th>\n",
       "      <th>STATUS</th>\n",
       "      <th>AC</th>\n",
       "      <th>target</th>\n",
       "    </tr>\n",
       "  </thead>\n",
       "  <tbody>\n",
       "    <tr>\n",
       "      <th>107828</th>\n",
       "      <td>train_id_107828</td>\n",
       "      <td>2018-07-05</td>\n",
       "      <td>WKL 0000</td>\n",
       "      <td>TUN</td>\n",
       "      <td>TUN</td>\n",
       "      <td>2018-07-05 23:00:00</td>\n",
       "      <td>2018-07-06 02.00.00</td>\n",
       "      <td>SCH</td>\n",
       "      <td>TU 32AIML</td>\n",
       "      <td>0.0</td>\n",
       "    </tr>\n",
       "    <tr>\n",
       "      <th>107829</th>\n",
       "      <td>train_id_107829</td>\n",
       "      <td>2018-01-13</td>\n",
       "      <td>UG 0003</td>\n",
       "      <td>DJE</td>\n",
       "      <td>TUN</td>\n",
       "      <td>2018-01-13 08:00:00</td>\n",
       "      <td>2018-01-13 09.00.00</td>\n",
       "      <td>SCH</td>\n",
       "      <td>UG AT7AT7</td>\n",
       "      <td>0.0</td>\n",
       "    </tr>\n",
       "    <tr>\n",
       "      <th>107830</th>\n",
       "      <td>train_id_107830</td>\n",
       "      <td>2018-11-07</td>\n",
       "      <td>SGT 0000</td>\n",
       "      <td>TUN</td>\n",
       "      <td>TUN</td>\n",
       "      <td>2018-11-07 05:00:00</td>\n",
       "      <td>2018-11-07 12.50.00</td>\n",
       "      <td>SCH</td>\n",
       "      <td>TU 736IOK</td>\n",
       "      <td>0.0</td>\n",
       "    </tr>\n",
       "    <tr>\n",
       "      <th>107831</th>\n",
       "      <td>train_id_107831</td>\n",
       "      <td>2018-01-23</td>\n",
       "      <td>UG 0010</td>\n",
       "      <td>TUN</td>\n",
       "      <td>DJE</td>\n",
       "      <td>2018-01-23 18:00:00</td>\n",
       "      <td>2018-01-23 18.45.00</td>\n",
       "      <td>ATA</td>\n",
       "      <td>TU CR9ISA</td>\n",
       "      <td>0.0</td>\n",
       "    </tr>\n",
       "    <tr>\n",
       "      <th>107832</th>\n",
       "      <td>train_id_107832</td>\n",
       "      <td>2018-11-13</td>\n",
       "      <td>UG 0002</td>\n",
       "      <td>TUN</td>\n",
       "      <td>DJE</td>\n",
       "      <td>2018-11-13 06:15:00</td>\n",
       "      <td>2018-11-13 07.05.00</td>\n",
       "      <td>SCH</td>\n",
       "      <td>TU CR9ISA</td>\n",
       "      <td>0.0</td>\n",
       "    </tr>\n",
       "  </tbody>\n",
       "</table>\n",
       "</div>"
      ],
      "text/plain": [
       "                     ID       DATOP      FLTID DEPSTN ARRSTN  \\\n",
       "107828  train_id_107828  2018-07-05  WKL 0000     TUN    TUN   \n",
       "107829  train_id_107829  2018-01-13   UG 0003     DJE    TUN   \n",
       "107830  train_id_107830  2018-11-07  SGT 0000     TUN    TUN   \n",
       "107831  train_id_107831  2018-01-23   UG 0010     TUN    DJE   \n",
       "107832  train_id_107832  2018-11-13   UG 0002     TUN    DJE   \n",
       "\n",
       "                        STD                  STA STATUS         AC  target  \n",
       "107828  2018-07-05 23:00:00  2018-07-06 02.00.00    SCH  TU 32AIML     0.0  \n",
       "107829  2018-01-13 08:00:00  2018-01-13 09.00.00    SCH  UG AT7AT7     0.0  \n",
       "107830  2018-11-07 05:00:00  2018-11-07 12.50.00    SCH  TU 736IOK     0.0  \n",
       "107831  2018-01-23 18:00:00  2018-01-23 18.45.00    ATA  TU CR9ISA     0.0  \n",
       "107832  2018-11-13 06:15:00  2018-11-13 07.05.00    SCH  TU CR9ISA     0.0  "
      ]
     },
     "execution_count": 5,
     "metadata": {},
     "output_type": "execute_result"
    }
   ],
   "source": [
    "train.tail()"
   ]
  },
  {
   "cell_type": "code",
   "execution_count": 6,
   "metadata": {
    "colab": {
     "base_uri": "https://localhost:8080/",
     "height": 34
    },
    "colab_type": "code",
    "id": "YtN7GM_hf1f3",
    "outputId": "791114de-2f5c-40b1-ba92-6e2a6f1fb0f8"
   },
   "outputs": [
    {
     "data": {
      "text/plain": [
       "(107833, 10)"
      ]
     },
     "execution_count": 6,
     "metadata": {},
     "output_type": "execute_result"
    }
   ],
   "source": [
    "train.shape"
   ]
  },
  {
   "cell_type": "code",
   "execution_count": 7,
   "metadata": {},
   "outputs": [
    {
     "data": {
      "text/plain": [
       "(9333, 9)"
      ]
     },
     "execution_count": 7,
     "metadata": {},
     "output_type": "execute_result"
    }
   ],
   "source": [
    "test.shape"
   ]
  },
  {
   "cell_type": "code",
   "execution_count": 8,
   "metadata": {
    "colab": {
     "base_uri": "https://localhost:8080/",
     "height": 204
    },
    "colab_type": "code",
    "id": "31foVXRyf8Me",
    "outputId": "5f50b022-e651-4b48-f950-972a89027f25"
   },
   "outputs": [
    {
     "data": {
      "text/plain": [
       "ID        0\n",
       "DATOP     0\n",
       "FLTID     0\n",
       "DEPSTN    0\n",
       "ARRSTN    0\n",
       "STD       0\n",
       "STA       0\n",
       "STATUS    0\n",
       "AC        0\n",
       "target    0\n",
       "dtype: int64"
      ]
     },
     "execution_count": 8,
     "metadata": {},
     "output_type": "execute_result"
    }
   ],
   "source": [
    "train.isnull().sum()"
   ]
  },
  {
   "cell_type": "code",
   "execution_count": 9,
   "metadata": {
    "colab": {
     "base_uri": "https://localhost:8080/",
     "height": 272
    },
    "colab_type": "code",
    "id": "jyqqDgqLf8sC",
    "outputId": "f162414d-8313-42da-979b-96e62c4ceb69"
   },
   "outputs": [
    {
     "name": "stdout",
     "output_type": "stream",
     "text": [
      "<class 'pandas.core.frame.DataFrame'>\n",
      "RangeIndex: 107833 entries, 0 to 107832\n",
      "Data columns (total 10 columns):\n",
      "ID        107833 non-null object\n",
      "DATOP     107833 non-null object\n",
      "FLTID     107833 non-null object\n",
      "DEPSTN    107833 non-null object\n",
      "ARRSTN    107833 non-null object\n",
      "STD       107833 non-null object\n",
      "STA       107833 non-null object\n",
      "STATUS    107833 non-null object\n",
      "AC        107833 non-null object\n",
      "target    107833 non-null float64\n",
      "dtypes: float64(1), object(9)\n",
      "memory usage: 8.2+ MB\n"
     ]
    }
   ],
   "source": [
    "train.info()"
   ]
  },
  {
   "cell_type": "code",
   "execution_count": 10,
   "metadata": {
    "colab": {
     "base_uri": "https://localhost:8080/",
     "height": 119
    },
    "colab_type": "code",
    "id": "9x0tRxHKWwdc",
    "outputId": "9e77b68b-246f-4e2f-b1dc-ddc57a90957c"
   },
   "outputs": [
    {
     "data": {
      "text/plain": [
       "0    CMN\n",
       "1    MXP\n",
       "2    TUN\n",
       "3    DJE\n",
       "4    TUN\n",
       "Name: DEPSTN, dtype: object"
      ]
     },
     "execution_count": 10,
     "metadata": {},
     "output_type": "execute_result"
    }
   ],
   "source": [
    "train[\"DEPSTN\"].head()\n"
   ]
  },
  {
   "cell_type": "code",
   "execution_count": null,
   "metadata": {
    "colab": {},
    "colab_type": "code",
    "id": "ASaQ0OjylXXa"
   },
   "outputs": [],
   "source": []
  },
  {
   "cell_type": "code",
   "execution_count": 11,
   "metadata": {
    "colab": {
     "base_uri": "https://localhost:8080/",
     "height": 272
    },
    "colab_type": "code",
    "id": "-kqFV51vW87-",
    "outputId": "ca81f964-4695-424b-e6e1-3608b3b8b2b0"
   },
   "outputs": [
    {
     "data": {
      "text/plain": [
       "array(['TUN', 'IST', 'NTE', 'ALG', 'BCN', 'ORY', 'FCO', 'NCE', 'MRS',\n",
       "       'MED', 'FRA', 'BRU', 'DJE', 'LYS', 'CMN', 'BEG', 'OUA', 'GVA',\n",
       "       'MXP', 'BEY', 'MAD', 'JED', 'ABJ', 'VIE', 'MLA', 'BLQ', 'SFA',\n",
       "       'LIS', 'LHR', 'CDG', 'MIR', 'CAI', 'DUS', 'HAM', 'NBE', 'ZRH',\n",
       "       'AMS', 'NDR', 'TLS', 'VCE', 'SXB', 'MUC', 'LGW', 'CRL', 'ORN',\n",
       "       'DKR', 'BOD', 'SXF', 'LJU', 'OST', 'NKC', 'BKO', 'TOE', 'AHU',\n",
       "       'YUL', 'PRG', 'CPH', 'ARN', 'OUD', 'BRQ', 'GAF', 'JIB', 'BUD',\n",
       "       'OPO', 'KGL', 'NIM', 'SVO', 'LIL', 'OSR', 'EBL', 'TNG', 'PSA',\n",
       "       'CGN', 'AYT', 'GAE', 'NAP', 'BJA', 'KRT', 'LFW', 'TBJ', 'PMO',\n",
       "       'TMR', 'FBM', 'RAK', 'GNB', 'ESB', 'CZL', 'LBV', 'KSC', 'CKY',\n",
       "       'AMM', 'LED', 'BTS', 'MVB', 'HBE', 'OTP', 'CAG', 'VNO', 'TRN',\n",
       "       'ATH', 'ADB', 'SKG', 'BYJ', 'DSS', 'COO', 'IEV', 'LUX', 'KBP',\n",
       "       'DOH', 'FIH', 'EBM', 'BDS', 'VKO', 'AAE', 'BLL', 'HAJ', 'BRI',\n",
       "       'CTA', 'VRN', 'SKX', 'VOG', 'BGY', 'LAD', 'KRR', 'SJJ', 'GHA',\n",
       "       'RTM', 'TPS'], dtype=object)"
      ]
     },
     "execution_count": 11,
     "metadata": {},
     "output_type": "execute_result"
    }
   ],
   "source": [
    "train[\"ARRSTN\"].unique()"
   ]
  },
  {
   "cell_type": "markdown",
   "metadata": {},
   "source": [
    "# Feature Engineering"
   ]
  },
  {
   "cell_type": "code",
   "execution_count": 12,
   "metadata": {},
   "outputs": [],
   "source": [
    "train['Flight'] = train['DEPSTN'] + '-->' + train['ARRSTN']\n",
    "test['Flight'] = test['DEPSTN'] + '-->' + test['ARRSTN']"
   ]
  },
  {
   "cell_type": "code",
   "execution_count": null,
   "metadata": {},
   "outputs": [],
   "source": []
  },
  {
   "cell_type": "code",
   "execution_count": null,
   "metadata": {},
   "outputs": [],
   "source": []
  },
  {
   "cell_type": "code",
   "execution_count": 13,
   "metadata": {},
   "outputs": [],
   "source": [
    "train['DATOP'] = pd.to_datetime(train['DATOP'], format='%Y-%m-%d')\n",
    "test['DATOP'] = pd.to_datetime(test['DATOP'], format='%Y-%m-%d')\n"
   ]
  },
  {
   "cell_type": "code",
   "execution_count": 14,
   "metadata": {},
   "outputs": [],
   "source": [
    "train['Year'] = train['DATOP'].dt.year\n",
    "test['Year'] = test['DATOP'].dt.year\n",
    "\n",
    "train['Month'] = train['DATOP'].dt.month\n",
    "test['Month'] = test['DATOP'].dt.month\n",
    "\n",
    "train['Day'] = train['DATOP'].dt.day\n",
    "test['Day'] = test['DATOP'].dt.day\n",
    "\n"
   ]
  },
  {
   "cell_type": "code",
   "execution_count": 15,
   "metadata": {},
   "outputs": [],
   "source": [
    "train['Day_of_week'] = train['DATOP'].dt.dayofweek\n",
    "test['Day_of_week'] = test['DATOP'].dt.dayofweek\n"
   ]
  },
  {
   "cell_type": "code",
   "execution_count": 16,
   "metadata": {},
   "outputs": [],
   "source": [
    "train['Week_of_year'] = train['DATOP'].dt.week\n",
    "test['Week_of_year'] = test['DATOP'].dt.week"
   ]
  },
  {
   "cell_type": "code",
   "execution_count": 17,
   "metadata": {},
   "outputs": [],
   "source": [
    "data = [train, test]\n",
    "for dataset in data:\n",
    "    dataset.loc[ dataset['Day'] <= 7, 'WeekofMonth'] = 0\n",
    "    dataset.loc[(dataset['Day'] > 7) & (dataset['Day'] <= 14), 'WeekofMonth'] = 1\n",
    "    dataset.loc[(dataset['Day'] > 14) & (dataset['Day'] <= 21), 'WeekofMonth'] = 2\n",
    "    dataset.loc[(dataset['Day'] > 21) & (dataset['Day'] <= 28), 'WeekofMonth'] = 3\n",
    "    dataset.loc[(dataset['Day'] > 28) & (dataset['Day'] <= 31), 'WeekofMonth'] = 4\n",
    "    dataset['WeekofMonth'] = dataset['WeekofMonth'].astype(int)"
   ]
  },
  {
   "cell_type": "code",
   "execution_count": null,
   "metadata": {},
   "outputs": [],
   "source": []
  },
  {
   "cell_type": "code",
   "execution_count": 18,
   "metadata": {},
   "outputs": [],
   "source": [
    "data = [train, test]\n",
    "for dataset in data:\n",
    "    dataset.loc[ (dataset['Month'] < 3) | (dataset['Month'] == 12), 'Season'] = 0\n",
    "    dataset.loc[(dataset['Month'] >= 3) & (dataset['Month'] < 6), 'Season'] = 1\n",
    "    dataset.loc[(dataset['Month'] >= 6) & (dataset['Month'] < 9), 'Season'] = 2\n",
    "    dataset.loc[(dataset['Month'] >= 9) & (dataset['Month'] < 12), 'Season'] = 3\n",
    "    dataset['Season'] = dataset['Season'].astype(int)"
   ]
  },
  {
   "cell_type": "code",
   "execution_count": 19,
   "metadata": {},
   "outputs": [],
   "source": [
    "\n",
    "data = [train, test]\n",
    "for dataset in data:\n",
    "    dataset.loc[ dataset['Month'] == 1, 'DayofYear'] = dataset['Day']\n",
    "    dataset.loc[ dataset['Month'] == 2, 'DayofYear'] = dataset['Day'] + 31\n",
    "    dataset.loc[ dataset['Month'] == 3, 'DayofYear'] = dataset['Day'] + 31 + 28\n",
    "    dataset.loc[ dataset['Month'] == 4, 'DayofYear'] = dataset['Day'] + 31 +28 + 31\n",
    "    dataset.loc[ dataset['Month'] == 5, 'DayofYear'] = dataset['Day'] + 31 +28 + 31 + 30 \n",
    "    dataset.loc[ dataset['Month'] == 6, 'DayofYear'] = dataset['Day'] + 31 +28 + 31 + 30 +31\n",
    "    dataset.loc[ dataset['Month'] == 7, 'DayofYear'] = dataset['Day'] + 31 +28 + 31 + 30 +31+ 30\n",
    "    dataset.loc[ dataset['Month'] == 8, 'DayofYear'] = dataset['Day'] + 31 +28 + 31 + 30 +31+ 30 + 31\n",
    "    dataset.loc[ dataset['Month'] == 9, 'DayofYear'] = dataset['Day']  + 31 +28 + 31 + 30 +31+ 30 + 31 +31\n",
    "    dataset.loc[ dataset['Month'] == 10, 'DayofYear'] = dataset['Day']  + 31 +28 + 31 + 30 +31+ 30 + 31 +31 +30\n",
    "    dataset.loc[ dataset['Month'] == 11, 'DayofYear'] = dataset['Day'] + 31 +28 + 31 + 30 +31+ 30 + 31 +31 +30 + 31\n",
    "    dataset.loc[ dataset['Month'] == 12, 'DayofYear'] = dataset['Day'] + 31 +28 + 31 + 30 +31+ 30 + 31 +31 +30 + 31+30 \n",
    "    dataset['DayofYear'] = dataset['DayofYear'].astype(int)"
   ]
  },
  {
   "cell_type": "code",
   "execution_count": null,
   "metadata": {},
   "outputs": [],
   "source": []
  },
  {
   "cell_type": "code",
   "execution_count": null,
   "metadata": {},
   "outputs": [],
   "source": []
  },
  {
   "cell_type": "code",
   "execution_count": 20,
   "metadata": {},
   "outputs": [],
   "source": [
    "#'%Y-%m-%d-%H:%M:%S'\n",
    "train['STD'] = pd.to_datetime(train['STD'], format='%Y-%m-%d %H:%M:%S')\n",
    "test['STD'] = pd.to_datetime(test['STD'], format='%Y-%m-%d %H:%M:%S')\n",
    "\n",
    "\n",
    "#'%Y-%m-%d-%H:%M:%S'\n",
    "train['STA'] = pd.to_datetime(train['STA'], format='%Y-%m-%d %H.%M.%S')\n",
    "test['STA'] = pd.to_datetime(test['STA'], format='%Y-%m-%d %H.%M.%S')\n",
    "\n",
    "\n"
   ]
  },
  {
   "cell_type": "code",
   "execution_count": 21,
   "metadata": {},
   "outputs": [],
   "source": [
    "train['Hour_of_go'] = train['STD'].dt.hour \n",
    "test['Hour_of_go'] = test['STD'].dt.hour\n",
    "\n",
    "\n",
    "\n",
    "train['Hour_of_came'] = train['STA'].dt.hour \n",
    "test['Hour_of_came'] = test['STA'].dt.hour"
   ]
  },
  {
   "cell_type": "code",
   "execution_count": 22,
   "metadata": {},
   "outputs": [],
   "source": [
    "train['Minute_of_go'] = train['STD'].dt.minute \n",
    "test['Minute_of_go'] = test['STD'].dt.minute\n",
    "\n",
    "\n",
    "\n",
    "train['Minute_of_came'] = train['STA'].dt.minute \n",
    "test['Minute_of_came'] = test['STA'].dt.minute"
   ]
  },
  {
   "cell_type": "code",
   "execution_count": null,
   "metadata": {},
   "outputs": [],
   "source": []
  },
  {
   "cell_type": "code",
   "execution_count": null,
   "metadata": {},
   "outputs": [],
   "source": []
  },
  {
   "cell_type": "code",
   "execution_count": 23,
   "metadata": {},
   "outputs": [],
   "source": [
    "train['Flight_Duration_hour'] = train['Hour_of_came'] - train['Hour_of_go'] \n",
    "test['Flight_Duration_hour'] = test['Hour_of_came'] - test['Hour_of_go'] \n"
   ]
  },
  {
   "cell_type": "code",
   "execution_count": 24,
   "metadata": {},
   "outputs": [],
   "source": [
    "train['Flight_Duration_minute'] = ((train['Hour_of_came']*60) +train['Minute_of_came'] ) - ((train['Hour_of_go']*60 )+train['Minute_of_go'])\n",
    "test['Flight_Duration_minute'] = ((test['Hour_of_came']*60) +test['Minute_of_came'] ) - ((test['Hour_of_go']*60 )+test['Minute_of_go'])\n"
   ]
  },
  {
   "cell_type": "code",
   "execution_count": 25,
   "metadata": {},
   "outputs": [],
   "source": [
    "train['S_hour_go'] = np.sin(2*np.pi*train['Hour_of_go']/24)\n",
    "train['C_hour_go'] = np.cos(2*np.pi*train['Hour_of_go']/24)\n",
    "test['S_hour_go'] = np.sin(2*np.pi*test['Hour_of_go']/24)\n",
    "test['C_hour_go'] = np.cos(2*np.pi*test['Hour_of_go']/24)\n",
    "\n",
    "\n",
    "\n",
    "\n",
    "train['S_hour_came'] = np.sin(2*np.pi*train['Hour_of_came']/24)\n",
    "train['C_hour_came'] = np.cos(2*np.pi*train['Hour_of_came']/24)\n",
    "test['S_hour_came'] = np.sin(2*np.pi*test['Hour_of_came']/24)\n",
    "test['C_hour_came'] = np.cos(2*np.pi*test['Hour_of_came']/24)"
   ]
  },
  {
   "cell_type": "code",
   "execution_count": null,
   "metadata": {},
   "outputs": [],
   "source": []
  },
  {
   "cell_type": "code",
   "execution_count": 26,
   "metadata": {},
   "outputs": [],
   "source": [
    "\n",
    "\n",
    "data = [train, test]\n",
    "for dataset in data:\n",
    "    dataset.loc[ (dataset['Hour_of_go'] < 12) , 'Hour_of_go_AM_PM'] = 0\n",
    "    dataset.loc[(dataset['Hour_of_go'] >= 12) , 'Hour_of_go_AM_PM'] = 1\n",
    "    dataset['Hour_of_go_AM_PM'] = dataset['Hour_of_go_AM_PM'].astype(int)\n",
    "    \n",
    "    \n",
    "\n",
    "data = [train, test]\n",
    "for dataset in data:\n",
    "    dataset.loc[ (dataset['Hour_of_came'] < 12) , 'Hour_of_came_AM_PM'] = 0\n",
    "    dataset.loc[(dataset['Hour_of_came'] >= 12) , 'Hour_of_came_AM_PM'] = 1\n",
    "    dataset['Hour_of_came_AM_PM'] = dataset['Hour_of_came_AM_PM'].astype(int)"
   ]
  },
  {
   "cell_type": "code",
   "execution_count": null,
   "metadata": {},
   "outputs": [],
   "source": []
  },
  {
   "cell_type": "code",
   "execution_count": 27,
   "metadata": {},
   "outputs": [
    {
     "data": {
      "text/html": [
       "<div>\n",
       "<style scoped>\n",
       "    .dataframe tbody tr th:only-of-type {\n",
       "        vertical-align: middle;\n",
       "    }\n",
       "\n",
       "    .dataframe tbody tr th {\n",
       "        vertical-align: top;\n",
       "    }\n",
       "\n",
       "    .dataframe thead th {\n",
       "        text-align: right;\n",
       "    }\n",
       "</style>\n",
       "<table border=\"1\" class=\"dataframe\">\n",
       "  <thead>\n",
       "    <tr style=\"text-align: right;\">\n",
       "      <th></th>\n",
       "      <th>ID</th>\n",
       "      <th>DATOP</th>\n",
       "      <th>FLTID</th>\n",
       "      <th>DEPSTN</th>\n",
       "      <th>ARRSTN</th>\n",
       "      <th>STD</th>\n",
       "      <th>STA</th>\n",
       "      <th>STATUS</th>\n",
       "      <th>AC</th>\n",
       "      <th>target</th>\n",
       "      <th>...</th>\n",
       "      <th>Minute_of_go</th>\n",
       "      <th>Minute_of_came</th>\n",
       "      <th>Flight_Duration_hour</th>\n",
       "      <th>Flight_Duration_minute</th>\n",
       "      <th>S_hour_go</th>\n",
       "      <th>C_hour_go</th>\n",
       "      <th>S_hour_came</th>\n",
       "      <th>C_hour_came</th>\n",
       "      <th>Hour_of_go_AM_PM</th>\n",
       "      <th>Hour_of_came_AM_PM</th>\n",
       "    </tr>\n",
       "  </thead>\n",
       "  <tbody>\n",
       "    <tr>\n",
       "      <th>0</th>\n",
       "      <td>train_id_0</td>\n",
       "      <td>2016-01-03</td>\n",
       "      <td>TU 0712</td>\n",
       "      <td>CMN</td>\n",
       "      <td>TUN</td>\n",
       "      <td>2016-01-03 10:30:00</td>\n",
       "      <td>2016-01-03 12:55:00</td>\n",
       "      <td>ATA</td>\n",
       "      <td>TU 32AIMN</td>\n",
       "      <td>260.0</td>\n",
       "      <td>...</td>\n",
       "      <td>30</td>\n",
       "      <td>55</td>\n",
       "      <td>2</td>\n",
       "      <td>145</td>\n",
       "      <td>0.500000</td>\n",
       "      <td>-0.866025</td>\n",
       "      <td>1.224647e-16</td>\n",
       "      <td>-1.000000e+00</td>\n",
       "      <td>0</td>\n",
       "      <td>1</td>\n",
       "    </tr>\n",
       "    <tr>\n",
       "      <th>1</th>\n",
       "      <td>train_id_1</td>\n",
       "      <td>2016-01-13</td>\n",
       "      <td>TU 0757</td>\n",
       "      <td>MXP</td>\n",
       "      <td>TUN</td>\n",
       "      <td>2016-01-13 15:05:00</td>\n",
       "      <td>2016-01-13 16:55:00</td>\n",
       "      <td>ATA</td>\n",
       "      <td>TU 31BIMO</td>\n",
       "      <td>20.0</td>\n",
       "      <td>...</td>\n",
       "      <td>5</td>\n",
       "      <td>55</td>\n",
       "      <td>1</td>\n",
       "      <td>110</td>\n",
       "      <td>-0.707107</td>\n",
       "      <td>-0.707107</td>\n",
       "      <td>-8.660254e-01</td>\n",
       "      <td>-5.000000e-01</td>\n",
       "      <td>1</td>\n",
       "      <td>1</td>\n",
       "    </tr>\n",
       "    <tr>\n",
       "      <th>2</th>\n",
       "      <td>train_id_2</td>\n",
       "      <td>2016-01-16</td>\n",
       "      <td>TU 0214</td>\n",
       "      <td>TUN</td>\n",
       "      <td>IST</td>\n",
       "      <td>2016-01-16 04:10:00</td>\n",
       "      <td>2016-01-16 06:45:00</td>\n",
       "      <td>ATA</td>\n",
       "      <td>TU 32AIMN</td>\n",
       "      <td>0.0</td>\n",
       "      <td>...</td>\n",
       "      <td>10</td>\n",
       "      <td>45</td>\n",
       "      <td>2</td>\n",
       "      <td>155</td>\n",
       "      <td>0.866025</td>\n",
       "      <td>0.500000</td>\n",
       "      <td>1.000000e+00</td>\n",
       "      <td>6.123234e-17</td>\n",
       "      <td>0</td>\n",
       "      <td>0</td>\n",
       "    </tr>\n",
       "    <tr>\n",
       "      <th>3</th>\n",
       "      <td>train_id_3</td>\n",
       "      <td>2016-01-17</td>\n",
       "      <td>TU 0480</td>\n",
       "      <td>DJE</td>\n",
       "      <td>NTE</td>\n",
       "      <td>2016-01-17 14:10:00</td>\n",
       "      <td>2016-01-17 17:00:00</td>\n",
       "      <td>ATA</td>\n",
       "      <td>TU 736IOK</td>\n",
       "      <td>0.0</td>\n",
       "      <td>...</td>\n",
       "      <td>10</td>\n",
       "      <td>0</td>\n",
       "      <td>3</td>\n",
       "      <td>170</td>\n",
       "      <td>-0.500000</td>\n",
       "      <td>-0.866025</td>\n",
       "      <td>-9.659258e-01</td>\n",
       "      <td>-2.588190e-01</td>\n",
       "      <td>1</td>\n",
       "      <td>1</td>\n",
       "    </tr>\n",
       "    <tr>\n",
       "      <th>4</th>\n",
       "      <td>train_id_4</td>\n",
       "      <td>2016-01-17</td>\n",
       "      <td>TU 0338</td>\n",
       "      <td>TUN</td>\n",
       "      <td>ALG</td>\n",
       "      <td>2016-01-17 14:30:00</td>\n",
       "      <td>2016-01-17 15:50:00</td>\n",
       "      <td>ATA</td>\n",
       "      <td>TU 320IMU</td>\n",
       "      <td>22.0</td>\n",
       "      <td>...</td>\n",
       "      <td>30</td>\n",
       "      <td>50</td>\n",
       "      <td>1</td>\n",
       "      <td>80</td>\n",
       "      <td>-0.500000</td>\n",
       "      <td>-0.866025</td>\n",
       "      <td>-7.071068e-01</td>\n",
       "      <td>-7.071068e-01</td>\n",
       "      <td>1</td>\n",
       "      <td>1</td>\n",
       "    </tr>\n",
       "  </tbody>\n",
       "</table>\n",
       "<p>5 rows × 31 columns</p>\n",
       "</div>"
      ],
      "text/plain": [
       "           ID      DATOP     FLTID DEPSTN ARRSTN                 STD  \\\n",
       "0  train_id_0 2016-01-03  TU 0712     CMN    TUN 2016-01-03 10:30:00   \n",
       "1  train_id_1 2016-01-13  TU 0757     MXP    TUN 2016-01-13 15:05:00   \n",
       "2  train_id_2 2016-01-16  TU 0214     TUN    IST 2016-01-16 04:10:00   \n",
       "3  train_id_3 2016-01-17  TU 0480     DJE    NTE 2016-01-17 14:10:00   \n",
       "4  train_id_4 2016-01-17  TU 0338     TUN    ALG 2016-01-17 14:30:00   \n",
       "\n",
       "                  STA STATUS         AC  target         ...          \\\n",
       "0 2016-01-03 12:55:00    ATA  TU 32AIMN   260.0         ...           \n",
       "1 2016-01-13 16:55:00    ATA  TU 31BIMO    20.0         ...           \n",
       "2 2016-01-16 06:45:00    ATA  TU 32AIMN     0.0         ...           \n",
       "3 2016-01-17 17:00:00    ATA  TU 736IOK     0.0         ...           \n",
       "4 2016-01-17 15:50:00    ATA  TU 320IMU    22.0         ...           \n",
       "\n",
       "  Minute_of_go  Minute_of_came  Flight_Duration_hour  Flight_Duration_minute  \\\n",
       "0           30              55                     2                     145   \n",
       "1            5              55                     1                     110   \n",
       "2           10              45                     2                     155   \n",
       "3           10               0                     3                     170   \n",
       "4           30              50                     1                      80   \n",
       "\n",
       "   S_hour_go  C_hour_go   S_hour_came   C_hour_came  Hour_of_go_AM_PM  \\\n",
       "0   0.500000  -0.866025  1.224647e-16 -1.000000e+00                 0   \n",
       "1  -0.707107  -0.707107 -8.660254e-01 -5.000000e-01                 1   \n",
       "2   0.866025   0.500000  1.000000e+00  6.123234e-17                 0   \n",
       "3  -0.500000  -0.866025 -9.659258e-01 -2.588190e-01                 1   \n",
       "4  -0.500000  -0.866025 -7.071068e-01 -7.071068e-01                 1   \n",
       "\n",
       "   Hour_of_came_AM_PM  \n",
       "0                   1  \n",
       "1                   1  \n",
       "2                   0  \n",
       "3                   1  \n",
       "4                   1  \n",
       "\n",
       "[5 rows x 31 columns]"
      ]
     },
     "execution_count": 27,
     "metadata": {},
     "output_type": "execute_result"
    }
   ],
   "source": [
    "train.head()"
   ]
  },
  {
   "cell_type": "code",
   "execution_count": null,
   "metadata": {},
   "outputs": [],
   "source": []
  },
  {
   "cell_type": "code",
   "execution_count": null,
   "metadata": {},
   "outputs": [],
   "source": []
  },
  {
   "cell_type": "code",
   "execution_count": null,
   "metadata": {},
   "outputs": [],
   "source": []
  },
  {
   "cell_type": "code",
   "execution_count": null,
   "metadata": {},
   "outputs": [],
   "source": []
  },
  {
   "cell_type": "code",
   "execution_count": 28,
   "metadata": {
    "colab": {
     "base_uri": "https://localhost:8080/",
     "height": 1000
    },
    "colab_type": "code",
    "id": "iF4RRPmX0N_O",
    "outputId": "936565b1-7a7a-4eda-a320-7e3919b239d6"
   },
   "outputs": [
    {
     "data": {
      "image/png": "[encoded data removed]",
      "text/plain": [
       "<Figure size 1440x1440 with 2 Axes>"
      ]
     },
     "metadata": {
      "needs_background": "light"
     },
     "output_type": "display_data"
    }
   ],
   "source": [
    "import matplotlib.pyplot as plt\n",
    "%matplotlib inline\n",
    "import seaborn as sns\n",
    "\n",
    "\n",
    "\n",
    "corrmat = train.corr()\n",
    "top_corr_features = corrmat.index\n",
    "plt.figure(figsize=(20,20))\n",
    "#plot heat map\n",
    "g=sns.heatmap(train[top_corr_features].corr(),annot=True,cmap=\"RdYlGn\")"
   ]
  },
  {
   "cell_type": "code",
   "execution_count": 29,
   "metadata": {
    "colab": {
     "base_uri": "https://localhost:8080/",
     "height": 68
    },
    "colab_type": "code",
    "id": "N1sNMhpgW_27",
    "outputId": "4efa5b62-208d-4d61-8cac-e888d840ddd4"
   },
   "outputs": [
    {
     "data": {
      "text/plain": [
       "Index(['ID', 'DATOP', 'FLTID', 'DEPSTN', 'ARRSTN', 'STD', 'STA', 'STATUS',\n",
       "       'AC', 'target', 'Flight', 'Year', 'Month', 'Day', 'Day_of_week',\n",
       "       'Week_of_year', 'WeekofMonth', 'Season', 'DayofYear', 'Hour_of_go',\n",
       "       'Hour_of_came', 'Minute_of_go', 'Minute_of_came',\n",
       "       'Flight_Duration_hour', 'Flight_Duration_minute', 'S_hour_go',\n",
       "       'C_hour_go', 'S_hour_came', 'C_hour_came', 'Hour_of_go_AM_PM',\n",
       "       'Hour_of_came_AM_PM'],\n",
       "      dtype='object')"
      ]
     },
     "execution_count": 29,
     "metadata": {},
     "output_type": "execute_result"
    }
   ],
   "source": [
    "train.columns\n"
   ]
  },
  {
   "cell_type": "markdown",
   "metadata": {},
   "source": [
    "# Model Training"
   ]
  },
  {
   "cell_type": "code",
   "execution_count": 30,
   "metadata": {
    "colab": {},
    "colab_type": "code",
    "id": "JlFY9dX-bW66"
   },
   "outputs": [],
   "source": [
    "#'DATOP','STD', 'STA',, 'AC' , 'WeekofMonth','Season','Minute_of_came','Flight_Duration_hour','Minute_of_go'\n",
    "\n",
    "train_columns = [ 'DEPSTN','ARRSTN','STATUS', 'AC','Flight', 'Year', 'Month', 'Day', 'Minute_of_came',\n",
    "        'DayofYear','Hour_of_go', 'Hour_of_came','Flight_Duration_minute','Flight_Duration_hour','Minute_of_go', 'DATOP' ,'Day_of_week','FLTID','Week_of_year','S_hour_go',\n",
    "       'C_hour_go', 'S_hour_came', 'C_hour_came']#,'Hour_of_came_AM_PM', 'Hour_of_go_AM_PM','Timedelta'\n",
    "\n",
    "target = 'target'\n",
    "X = train[train_columns]\n",
    "Y = train[target]\n",
    "x_test = test[train_columns]"
   ]
  },
  {
   "cell_type": "code",
   "execution_count": null,
   "metadata": {},
   "outputs": [],
   "source": []
  },
  {
   "cell_type": "code",
   "execution_count": 31,
   "metadata": {
    "colab": {
     "base_uri": "https://localhost:8080/",
     "height": 204
    },
    "colab_type": "code",
    "id": "5KbhDdnVagLi",
    "outputId": "ccb438e3-b38d-40c5-f969-260a8c53918c"
   },
   "outputs": [
    {
     "data": {
      "text/html": [
       "<div>\n",
       "<style scoped>\n",
       "    .dataframe tbody tr th:only-of-type {\n",
       "        vertical-align: middle;\n",
       "    }\n",
       "\n",
       "    .dataframe tbody tr th {\n",
       "        vertical-align: top;\n",
       "    }\n",
       "\n",
       "    .dataframe thead th {\n",
       "        text-align: right;\n",
       "    }\n",
       "</style>\n",
       "<table border=\"1\" class=\"dataframe\">\n",
       "  <thead>\n",
       "    <tr style=\"text-align: right;\">\n",
       "      <th></th>\n",
       "      <th>DEPSTN</th>\n",
       "      <th>ARRSTN</th>\n",
       "      <th>STATUS</th>\n",
       "      <th>AC</th>\n",
       "      <th>Flight</th>\n",
       "      <th>Year</th>\n",
       "      <th>Month</th>\n",
       "      <th>Day</th>\n",
       "      <th>Minute_of_came</th>\n",
       "      <th>DayofYear</th>\n",
       "      <th>...</th>\n",
       "      <th>Flight_Duration_hour</th>\n",
       "      <th>Minute_of_go</th>\n",
       "      <th>DATOP</th>\n",
       "      <th>Day_of_week</th>\n",
       "      <th>FLTID</th>\n",
       "      <th>Week_of_year</th>\n",
       "      <th>S_hour_go</th>\n",
       "      <th>C_hour_go</th>\n",
       "      <th>S_hour_came</th>\n",
       "      <th>C_hour_came</th>\n",
       "    </tr>\n",
       "  </thead>\n",
       "  <tbody>\n",
       "    <tr>\n",
       "      <th>0</th>\n",
       "      <td>CMN</td>\n",
       "      <td>TUN</td>\n",
       "      <td>ATA</td>\n",
       "      <td>TU 32AIMN</td>\n",
       "      <td>CMN--&gt;TUN</td>\n",
       "      <td>2016</td>\n",
       "      <td>1</td>\n",
       "      <td>3</td>\n",
       "      <td>55</td>\n",
       "      <td>3</td>\n",
       "      <td>...</td>\n",
       "      <td>2</td>\n",
       "      <td>30</td>\n",
       "      <td>2016-01-03</td>\n",
       "      <td>6</td>\n",
       "      <td>TU 0712</td>\n",
       "      <td>53</td>\n",
       "      <td>0.500000</td>\n",
       "      <td>-0.866025</td>\n",
       "      <td>1.224647e-16</td>\n",
       "      <td>-1.000000e+00</td>\n",
       "    </tr>\n",
       "    <tr>\n",
       "      <th>1</th>\n",
       "      <td>MXP</td>\n",
       "      <td>TUN</td>\n",
       "      <td>ATA</td>\n",
       "      <td>TU 31BIMO</td>\n",
       "      <td>MXP--&gt;TUN</td>\n",
       "      <td>2016</td>\n",
       "      <td>1</td>\n",
       "      <td>13</td>\n",
       "      <td>55</td>\n",
       "      <td>13</td>\n",
       "      <td>...</td>\n",
       "      <td>1</td>\n",
       "      <td>5</td>\n",
       "      <td>2016-01-13</td>\n",
       "      <td>2</td>\n",
       "      <td>TU 0757</td>\n",
       "      <td>2</td>\n",
       "      <td>-0.707107</td>\n",
       "      <td>-0.707107</td>\n",
       "      <td>-8.660254e-01</td>\n",
       "      <td>-5.000000e-01</td>\n",
       "    </tr>\n",
       "    <tr>\n",
       "      <th>2</th>\n",
       "      <td>TUN</td>\n",
       "      <td>IST</td>\n",
       "      <td>ATA</td>\n",
       "      <td>TU 32AIMN</td>\n",
       "      <td>TUN--&gt;IST</td>\n",
       "      <td>2016</td>\n",
       "      <td>1</td>\n",
       "      <td>16</td>\n",
       "      <td>45</td>\n",
       "      <td>16</td>\n",
       "      <td>...</td>\n",
       "      <td>2</td>\n",
       "      <td>10</td>\n",
       "      <td>2016-01-16</td>\n",
       "      <td>5</td>\n",
       "      <td>TU 0214</td>\n",
       "      <td>2</td>\n",
       "      <td>0.866025</td>\n",
       "      <td>0.500000</td>\n",
       "      <td>1.000000e+00</td>\n",
       "      <td>6.123234e-17</td>\n",
       "    </tr>\n",
       "    <tr>\n",
       "      <th>3</th>\n",
       "      <td>DJE</td>\n",
       "      <td>NTE</td>\n",
       "      <td>ATA</td>\n",
       "      <td>TU 736IOK</td>\n",
       "      <td>DJE--&gt;NTE</td>\n",
       "      <td>2016</td>\n",
       "      <td>1</td>\n",
       "      <td>17</td>\n",
       "      <td>0</td>\n",
       "      <td>17</td>\n",
       "      <td>...</td>\n",
       "      <td>3</td>\n",
       "      <td>10</td>\n",
       "      <td>2016-01-17</td>\n",
       "      <td>6</td>\n",
       "      <td>TU 0480</td>\n",
       "      <td>2</td>\n",
       "      <td>-0.500000</td>\n",
       "      <td>-0.866025</td>\n",
       "      <td>-9.659258e-01</td>\n",
       "      <td>-2.588190e-01</td>\n",
       "    </tr>\n",
       "    <tr>\n",
       "      <th>4</th>\n",
       "      <td>TUN</td>\n",
       "      <td>ALG</td>\n",
       "      <td>ATA</td>\n",
       "      <td>TU 320IMU</td>\n",
       "      <td>TUN--&gt;ALG</td>\n",
       "      <td>2016</td>\n",
       "      <td>1</td>\n",
       "      <td>17</td>\n",
       "      <td>50</td>\n",
       "      <td>17</td>\n",
       "      <td>...</td>\n",
       "      <td>1</td>\n",
       "      <td>30</td>\n",
       "      <td>2016-01-17</td>\n",
       "      <td>6</td>\n",
       "      <td>TU 0338</td>\n",
       "      <td>2</td>\n",
       "      <td>-0.500000</td>\n",
       "      <td>-0.866025</td>\n",
       "      <td>-7.071068e-01</td>\n",
       "      <td>-7.071068e-01</td>\n",
       "    </tr>\n",
       "  </tbody>\n",
       "</table>\n",
       "<p>5 rows × 23 columns</p>\n",
       "</div>"
      ],
      "text/plain": [
       "  DEPSTN ARRSTN STATUS         AC     Flight  Year  Month  Day  \\\n",
       "0    CMN    TUN    ATA  TU 32AIMN  CMN-->TUN  2016      1    3   \n",
       "1    MXP    TUN    ATA  TU 31BIMO  MXP-->TUN  2016      1   13   \n",
       "2    TUN    IST    ATA  TU 32AIMN  TUN-->IST  2016      1   16   \n",
       "3    DJE    NTE    ATA  TU 736IOK  DJE-->NTE  2016      1   17   \n",
       "4    TUN    ALG    ATA  TU 320IMU  TUN-->ALG  2016      1   17   \n",
       "\n",
       "   Minute_of_came  DayofYear      ...       Flight_Duration_hour  \\\n",
       "0              55          3      ...                          2   \n",
       "1              55         13      ...                          1   \n",
       "2              45         16      ...                          2   \n",
       "3               0         17      ...                          3   \n",
       "4              50         17      ...                          1   \n",
       "\n",
       "   Minute_of_go      DATOP  Day_of_week     FLTID Week_of_year  S_hour_go  \\\n",
       "0            30 2016-01-03            6  TU 0712            53   0.500000   \n",
       "1             5 2016-01-13            2  TU 0757             2  -0.707107   \n",
       "2            10 2016-01-16            5  TU 0214             2   0.866025   \n",
       "3            10 2016-01-17            6  TU 0480             2  -0.500000   \n",
       "4            30 2016-01-17            6  TU 0338             2  -0.500000   \n",
       "\n",
       "  C_hour_go   S_hour_came   C_hour_came  \n",
       "0 -0.866025  1.224647e-16 -1.000000e+00  \n",
       "1 -0.707107 -8.660254e-01 -5.000000e-01  \n",
       "2  0.500000  1.000000e+00  6.123234e-17  \n",
       "3 -0.866025 -9.659258e-01 -2.588190e-01  \n",
       "4 -0.866025 -7.071068e-01 -7.071068e-01  \n",
       "\n",
       "[5 rows x 23 columns]"
      ]
     },
     "execution_count": 31,
     "metadata": {},
     "output_type": "execute_result"
    }
   ],
   "source": [
    "X.head()"
   ]
  },
  {
   "cell_type": "code",
   "execution_count": null,
   "metadata": {
    "colab": {},
    "colab_type": "code",
    "id": "OizhRysH0Tbj"
   },
   "outputs": [],
   "source": []
  },
  {
   "cell_type": "code",
   "execution_count": null,
   "metadata": {
    "colab": {},
    "colab_type": "code",
    "id": "dpcCEUx-0Teh"
   },
   "outputs": [],
   "source": []
  },
  {
   "cell_type": "code",
   "execution_count": 32,
   "metadata": {
    "colab": {},
    "colab_type": "code",
    "id": "jXozb-SgagOa"
   },
   "outputs": [],
   "source": [
    "from sklearn.model_selection import train_test_split\n",
    "x_train, x_val, y_train, y_val  = train_test_split(X, Y ,test_size=0.20 ,random_state=17 )"
   ]
  },
  {
   "cell_type": "code",
   "execution_count": null,
   "metadata": {
    "colab": {},
    "colab_type": "code",
    "id": "0L9SP3FFZjrc"
   },
   "outputs": [],
   "source": []
  },
  {
   "cell_type": "code",
   "execution_count": 33,
   "metadata": {
    "colab": {},
    "colab_type": "code",
    "id": "FNB8k8W8Zj0H"
   },
   "outputs": [],
   "source": [
    "#pip install catboost"
   ]
  },
  {
   "cell_type": "code",
   "execution_count": 34,
   "metadata": {
    "colab": {
     "base_uri": "https://localhost:8080/",
     "height": 34
    },
    "colab_type": "code",
    "id": "tq1c4wa3-NgU",
    "outputId": "a1c0b454-eafc-410f-b6ca-5ddf1de590cf"
   },
   "outputs": [
    {
     "data": {
      "text/plain": [
       "array([ 0,  1,  2,  3,  4, 17], dtype=int64)"
      ]
     },
     "execution_count": 34,
     "metadata": {},
     "output_type": "execute_result"
    }
   ],
   "source": [
    "categ_feat_idx = np.where(x_train.dtypes == 'object')[0]\n",
    "categ_feat_idx"
   ]
  },
  {
   "cell_type": "code",
   "execution_count": 35,
   "metadata": {
    "colab": {
     "base_uri": "https://localhost:8080/",
     "height": 34
    },
    "colab_type": "code",
    "id": "3cii-68IZj3X",
    "outputId": "0b4f9d98-4be7-4284-b845-731d14e1ea10"
   },
   "outputs": [
    {
     "data": {
      "text/plain": [
       "<catboost.core.CatBoostRegressor at 0x2d77d1bd160>"
      ]
     },
     "execution_count": 35,
     "metadata": {},
     "output_type": "execute_result"
    }
   ],
   "source": [
    "from catboost import CatBoostRegressor\n",
    "model = CatBoostRegressor(iterations=700,depth= 10, l2_leaf_reg= 7, learning_rate= 0.1) \n",
    "#depth= 10, l2_leaf_reg= 7, learning_rate= 0.1\n",
    "model.fit(x_train,y_train,verbose=False,cat_features=categ_feat_idx)"
   ]
  },
  {
   "cell_type": "code",
   "execution_count": 36,
   "metadata": {
    "colab": {},
    "colab_type": "code",
    "id": "KVlssgHWZ1sN"
   },
   "outputs": [],
   "source": [
    "predictions = model.predict(x_val)"
   ]
  },
  {
   "cell_type": "code",
   "execution_count": 37,
   "metadata": {
    "colab": {},
    "colab_type": "code",
    "id": "fNpwU6VSZ105"
   },
   "outputs": [
    {
     "name": "stdout",
     "output_type": "stream",
     "text": [
      "106.29765189132034\n"
     ]
    }
   ],
   "source": [
    "from sklearn.metrics import mean_squared_error\n",
    "\n",
    "from math import sqrt\n",
    "\n",
    "rmse = sqrt(mean_squared_error(y_val,predictions))\n",
    "\n",
    "print(rmse)"
   ]
  },
  {
   "cell_type": "code",
   "execution_count": null,
   "metadata": {
    "colab": {},
    "colab_type": "code",
    "id": "L7nZFiy3ck3B"
   },
   "outputs": [],
   "source": []
  },
  {
   "cell_type": "code",
   "execution_count": 38,
   "metadata": {
    "colab": {
     "base_uri": "https://localhost:8080/",
     "height": 204
    },
    "colab_type": "code",
    "id": "egx34vJNZ2CR",
    "outputId": "28691473-d199-4953-d6a0-00fd46e11e56"
   },
   "outputs": [
    {
     "data": {
      "text/html": [
       "<div>\n",
       "<style scoped>\n",
       "    .dataframe tbody tr th:only-of-type {\n",
       "        vertical-align: middle;\n",
       "    }\n",
       "\n",
       "    .dataframe tbody tr th {\n",
       "        vertical-align: top;\n",
       "    }\n",
       "\n",
       "    .dataframe thead th {\n",
       "        text-align: right;\n",
       "    }\n",
       "</style>\n",
       "<table border=\"1\" class=\"dataframe\">\n",
       "  <thead>\n",
       "    <tr style=\"text-align: right;\">\n",
       "      <th></th>\n",
       "      <th>importance</th>\n",
       "    </tr>\n",
       "    <tr>\n",
       "      <th>feature</th>\n",
       "      <th></th>\n",
       "    </tr>\n",
       "  </thead>\n",
       "  <tbody>\n",
       "    <tr>\n",
       "      <th>FLTID</th>\n",
       "      <td>12.877</td>\n",
       "    </tr>\n",
       "    <tr>\n",
       "      <th>DATOP</th>\n",
       "      <td>10.937</td>\n",
       "    </tr>\n",
       "    <tr>\n",
       "      <th>AC</th>\n",
       "      <td>10.479</td>\n",
       "    </tr>\n",
       "    <tr>\n",
       "      <th>DayofYear</th>\n",
       "      <td>9.162</td>\n",
       "    </tr>\n",
       "    <tr>\n",
       "      <th>Flight</th>\n",
       "      <td>6.940</td>\n",
       "    </tr>\n",
       "    <tr>\n",
       "      <th>Day</th>\n",
       "      <td>5.914</td>\n",
       "    </tr>\n",
       "    <tr>\n",
       "      <th>DEPSTN</th>\n",
       "      <td>5.857</td>\n",
       "    </tr>\n",
       "    <tr>\n",
       "      <th>Day_of_week</th>\n",
       "      <td>4.779</td>\n",
       "    </tr>\n",
       "    <tr>\n",
       "      <th>ARRSTN</th>\n",
       "      <td>4.332</td>\n",
       "    </tr>\n",
       "    <tr>\n",
       "      <th>Week_of_year</th>\n",
       "      <td>4.292</td>\n",
       "    </tr>\n",
       "    <tr>\n",
       "      <th>Flight_Duration_minute</th>\n",
       "      <td>2.927</td>\n",
       "    </tr>\n",
       "    <tr>\n",
       "      <th>STATUS</th>\n",
       "      <td>2.803</td>\n",
       "    </tr>\n",
       "    <tr>\n",
       "      <th>Hour_of_came</th>\n",
       "      <td>2.406</td>\n",
       "    </tr>\n",
       "    <tr>\n",
       "      <th>Minute_of_go</th>\n",
       "      <td>2.311</td>\n",
       "    </tr>\n",
       "    <tr>\n",
       "      <th>Minute_of_came</th>\n",
       "      <td>2.295</td>\n",
       "    </tr>\n",
       "  </tbody>\n",
       "</table>\n",
       "</div>"
      ],
      "text/plain": [
       "                        importance\n",
       "feature                           \n",
       "FLTID                       12.877\n",
       "DATOP                       10.937\n",
       "AC                          10.479\n",
       "DayofYear                    9.162\n",
       "Flight                       6.940\n",
       "Day                          5.914\n",
       "DEPSTN                       5.857\n",
       "Day_of_week                  4.779\n",
       "ARRSTN                       4.332\n",
       "Week_of_year                 4.292\n",
       "Flight_Duration_minute       2.927\n",
       "STATUS                       2.803\n",
       "Hour_of_came                 2.406\n",
       "Minute_of_go                 2.311\n",
       "Minute_of_came               2.295"
      ]
     },
     "execution_count": 38,
     "metadata": {},
     "output_type": "execute_result"
    }
   ],
   "source": [
    "importances = pd.DataFrame({'feature':X.columns,'importance':np.round(model.feature_importances_,3)})\n",
    "importances = importances.sort_values('importance',ascending=False).set_index('feature')\n",
    "importances.head(15)"
   ]
  },
  {
   "cell_type": "code",
   "execution_count": 39,
   "metadata": {
    "colab": {
     "base_uri": "https://localhost:8080/",
     "height": 330
    },
    "colab_type": "code",
    "id": "j0xTg8P4ZnR1",
    "outputId": "ffb7a1cd-8dc6-4afb-8857-70acd7626da7"
   },
   "outputs": [
    {
     "data": {
      "text/plain": [
       "<matplotlib.axes._subplots.AxesSubplot at 0x2d77f2fff28>"
      ]
     },
     "execution_count": 39,
     "metadata": {},
     "output_type": "execute_result"
    },
    {
     "data": {
      "image/png": "[encoded data removed]",
      "text/plain": [
       "<Figure size 432x288 with 1 Axes>"
      ]
     },
     "metadata": {
      "needs_background": "light"
     },
     "output_type": "display_data"
    }
   ],
   "source": [
    "importances.plot.bar()"
   ]
  },
  {
   "cell_type": "code",
   "execution_count": 40,
   "metadata": {
    "colab": {},
    "colab_type": "code",
    "id": "6ga_f2Xu1OJC"
   },
   "outputs": [],
   "source": [
    "y_pred = model.predict(x_test)\n",
    "\n"
   ]
  },
  {
   "cell_type": "code",
   "execution_count": 41,
   "metadata": {},
   "outputs": [
    {
     "data": {
      "text/plain": [
       "True"
      ]
     },
     "execution_count": 41,
     "metadata": {},
     "output_type": "execute_result"
    }
   ],
   "source": [
    "any(y_pred<0)"
   ]
  },
  {
   "cell_type": "code",
   "execution_count": 42,
   "metadata": {},
   "outputs": [],
   "source": [
    "y_pred[y_pred < 0] =0"
   ]
  },
  {
   "cell_type": "code",
   "execution_count": 43,
   "metadata": {},
   "outputs": [
    {
     "data": {
      "text/plain": [
       "False"
      ]
     },
     "execution_count": 43,
     "metadata": {},
     "output_type": "execute_result"
    }
   ],
   "source": [
    "any(y_pred<0)"
   ]
  },
  {
   "cell_type": "code",
   "execution_count": 44,
   "metadata": {
    "colab": {},
    "colab_type": "code",
    "id": "u7SmhW-4_1IC"
   },
   "outputs": [],
   "source": [
    "submission= pd.DataFrame({'ID':test[\"ID\"],'target':y_pred})\n",
    "submission.to_csv(\"submission.csv\",index=False)"
   ]
  },
  {
   "cell_type": "code",
   "execution_count": null,
   "metadata": {
    "colab": {},
    "colab_type": "code",
    "id": "kxtHk3QFApH4"
   },
   "outputs": [],
   "source": []
  },
  {
   "cell_type": "code",
   "execution_count": null,
   "metadata": {},
   "outputs": [],
   "source": []
  }
 ],
 "metadata": {
  "accelerator": "GPU",
  "colab": {
   "name": "Untitled0.ipynb",
   "provenance": []
  },
  "kernelspec": {
   "display_name": "Python 3",
   "language": "python",
   "name": "python3"
  },
  "language_info": {
   "codemirror_mode": {
    "name": "ipython",
    "version": 3
   },
   "file_extension": ".py",
   "mimetype": "text/x-python",
   "name": "python",
   "nbconvert_exporter": "python",
   "pygments_lexer": "ipython3",
   "version": "3.7.1"
  }
 },
 "nbformat": 4,
 "nbformat_minor": 1
}
